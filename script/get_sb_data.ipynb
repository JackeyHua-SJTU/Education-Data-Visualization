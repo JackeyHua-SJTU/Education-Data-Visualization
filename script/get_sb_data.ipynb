{
 "cells": [
  {
   "cell_type": "code",
   "execution_count": 1,
   "metadata": {},
   "outputs": [
    {
     "name": "stdout",
     "output_type": "stream",
     "text": [
      "length of class 1 before clean: 19515\n",
      "length of class 1 after clean: 19513\n",
      "length of class 2 before clean: 13845\n",
      "length of class 2 after clean: 13845\n",
      "length of class 3 before clean: 16715\n",
      "length of class 3 after clean: 16715\n",
      "length of class 4 before clean: 14283\n",
      "length of class 4 after clean: 14283\n",
      "length of class 5 before clean: 14078\n",
      "length of class 5 after clean: 14078\n",
      "length of class 6 before clean: 20202\n",
      "length of class 6 after clean: 20202\n",
      "length of class 7 before clean: 17274\n",
      "length of class 7 after clean: 17273\n",
      "length of class 8 before clean: 19690\n",
      "length of class 8 after clean: 19688\n",
      "length of class 9 before clean: 14181\n",
      "length of class 9 after clean: 14181\n",
      "length of class 10 before clean: 13448\n",
      "length of class 10 after clean: 13447\n",
      "length of class 11 before clean: 14942\n",
      "length of class 11 after clean: 14942\n",
      "length of class 12 before clean: 14000\n",
      "length of class 12 after clean: 14000\n",
      "length of class 13 before clean: 16103\n",
      "length of class 13 after clean: 16103\n",
      "length of class 14 before clean: 12130\n",
      "length of class 14 after clean: 12130\n",
      "length of class 15 before clean: 12412\n",
      "length of class 15 after clean: 12411\n"
     ]
    }
   ],
   "source": [
    "import clean\n",
    "\n",
    "import os\n",
    "clean.load_id()\n",
    "clean.data_clean()\n",
    "clean.add_date()\n",
    "a=clean.merged_dataframe\n",
    "length=len(a)\n",
    "titles=clean.title_id"
   ]
  },
  {
   "cell_type": "code",
   "execution_count": 2,
   "metadata": {},
   "outputs": [
    {
     "data": {
      "text/plain": [
       "232811"
      ]
     },
     "execution_count": 2,
     "metadata": {},
     "output_type": "execute_result"
    }
   ],
   "source": [
    "len(titles)\n",
    "len(a)"
   ]
  },
  {
   "cell_type": "code",
   "execution_count": 7,
   "metadata": {},
   "outputs": [
    {
     "data": {
      "text/plain": [
       "46847"
      ]
     },
     "execution_count": 7,
     "metadata": {},
     "output_type": "execute_result"
    }
   ],
   "source": [
    "import json\n",
    "import pandas as pd\n",
    "df_title = pd.read_csv(f'../data/Data_TitleInfo.csv')\n",
    "months=[9,10,11,12,1]\n",
    "#a是最大的表格\n",
    "b=a['date']\n",
    "a['date']=pd.to_datetime(a['date'])\n",
    "\n",
    "id2subknowledge = df_title.groupby('title_ID')['sub_knowledge'].agg(list).to_dict()\n",
    "\n",
    "a['subknowledge'] = a['title_ID'].map(id2subknowledge)\n",
    "\n",
    "a_exploded=a.explode('subknowledge')\n",
    "a_exploded['knowledge'] = a_exploded['subknowledge'].str.split('_').str[0]\n",
    "\n",
    "df_months=[a_exploded[a_exploded['date'].dt.month == month] for month in months]\n",
    "all_output = {'data':\n",
    "    [len(df_month[df_month['state']==\"Absolutely_Correct\"])/len(df_month) for df_month in df_months],'knowledges':{}\n",
    "    }\n",
    "for knowledge in df_title['knowledge'].unique():\n",
    "    all_output['knowledges'][knowledge]={} \n",
    "    all_output['knowledges'][knowledge]['data'] =[len(df_month[(df_month['state']==\"Absolutely_Correct\") & (df_month['knowledge']==knowledge)])/len(df_month[df_month['knowledge']==knowledge]) for df_month in df_months]\n",
    "    all_output['knowledges'][knowledge]['sub_knowledges'] = {}\n",
    "    for sub_knowledge in df_title[df_title['knowledge']==knowledge]['sub_knowledge'].unique():\n",
    "        all_output['knowledges'][knowledge]['sub_knowledges'][sub_knowledge] = {}\n",
    "        all_output['knowledges'][knowledge]['sub_knowledges'][sub_knowledge]['data'] = [len(df_month[(df_month['state']==\"Absolutely_Correct\") & (df_month['subknowledge']==sub_knowledge)])/len(df_month[df_month['subknowledge']==sub_knowledge]) for df_month in df_months]\n",
    "        \n",
    "        all_output['knowledges'][knowledge]['sub_knowledges'][sub_knowledge]['participants'] = [len(df_month[df_month['subknowledge']==sub_knowledge]) for df_month in df_months]\n",
    "#print(a['title_ID'].value_counts())\n",
    "a['method'].str.contains('Cj9').sum()\n",
    "\n",
    "\n"
   ]
  },
  {
   "cell_type": "code",
   "execution_count": 9,
   "metadata": {},
   "outputs": [],
   "source": [
    "json.dump(all_output, open('../data/forSB.json', 'w'), indent=4)"
   ]
  }
 ],
 "metadata": {
  "kernelspec": {
   "display_name": "Python 3",
   "language": "python",
   "name": "python3"
  },
  "language_info": {
   "codemirror_mode": {
    "name": "ipython",
    "version": 3
   },
   "file_extension": ".py",
   "mimetype": "text/x-python",
   "name": "python",
   "nbconvert_exporter": "python",
   "pygments_lexer": "ipython3",
   "version": "3.10.5"
  }
 },
 "nbformat": 4,
 "nbformat_minor": 2
}
